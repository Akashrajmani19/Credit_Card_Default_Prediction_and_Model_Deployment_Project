{
 "cells": [
  {
   "cell_type": "code",
   "execution_count": 20,
   "metadata": {},
   "outputs": [],
   "source": [
    "import pandas as pd\n",
    "import numpy as np\n",
    "import matplotlib.pyplot as plt\n",
    "import seaborn as sns\n",
    "%matplotlib inline\n",
    "from sklearn.model_selection import train_test_split"
   ]
  },
  {
   "cell_type": "code",
   "execution_count": 21,
   "metadata": {},
   "outputs": [
    {
     "data": {
      "text/html": [
       "<div>\n",
       "<style scoped>\n",
       "    .dataframe tbody tr th:only-of-type {\n",
       "        vertical-align: middle;\n",
       "    }\n",
       "\n",
       "    .dataframe tbody tr th {\n",
       "        vertical-align: top;\n",
       "    }\n",
       "\n",
       "    .dataframe thead th {\n",
       "        text-align: right;\n",
       "    }\n",
       "</style>\n",
       "<table border=\"1\" class=\"dataframe\">\n",
       "  <thead>\n",
       "    <tr style=\"text-align: right;\">\n",
       "      <th></th>\n",
       "      <th>16755</th>\n",
       "      <th>2582</th>\n",
       "      <th>19825</th>\n",
       "      <th>5058</th>\n",
       "      <th>10194</th>\n",
       "      <th>27575</th>\n",
       "      <th>9978</th>\n",
       "      <th>24431</th>\n",
       "      <th>25534</th>\n",
       "      <th>28353</th>\n",
       "    </tr>\n",
       "  </thead>\n",
       "  <tbody>\n",
       "    <tr>\n",
       "      <th>ID</th>\n",
       "      <td>16756.0</td>\n",
       "      <td>2583.0</td>\n",
       "      <td>19826.0</td>\n",
       "      <td>5059.0</td>\n",
       "      <td>10195.0</td>\n",
       "      <td>27576.0</td>\n",
       "      <td>9979.0</td>\n",
       "      <td>24432.0</td>\n",
       "      <td>25535.0</td>\n",
       "      <td>28354.0</td>\n",
       "    </tr>\n",
       "    <tr>\n",
       "      <th>LIMIT_BAL</th>\n",
       "      <td>70000.0</td>\n",
       "      <td>110000.0</td>\n",
       "      <td>220000.0</td>\n",
       "      <td>200000.0</td>\n",
       "      <td>10000.0</td>\n",
       "      <td>530000.0</td>\n",
       "      <td>200000.0</td>\n",
       "      <td>70000.0</td>\n",
       "      <td>120000.0</td>\n",
       "      <td>170000.0</td>\n",
       "    </tr>\n",
       "    <tr>\n",
       "      <th>SEX</th>\n",
       "      <td>1.0</td>\n",
       "      <td>2.0</td>\n",
       "      <td>2.0</td>\n",
       "      <td>2.0</td>\n",
       "      <td>1.0</td>\n",
       "      <td>1.0</td>\n",
       "      <td>1.0</td>\n",
       "      <td>1.0</td>\n",
       "      <td>2.0</td>\n",
       "      <td>2.0</td>\n",
       "    </tr>\n",
       "    <tr>\n",
       "      <th>EDUCATION</th>\n",
       "      <td>2.0</td>\n",
       "      <td>3.0</td>\n",
       "      <td>2.0</td>\n",
       "      <td>1.0</td>\n",
       "      <td>3.0</td>\n",
       "      <td>2.0</td>\n",
       "      <td>3.0</td>\n",
       "      <td>2.0</td>\n",
       "      <td>2.0</td>\n",
       "      <td>1.0</td>\n",
       "    </tr>\n",
       "    <tr>\n",
       "      <th>MARRIAGE</th>\n",
       "      <td>1.0</td>\n",
       "      <td>1.0</td>\n",
       "      <td>2.0</td>\n",
       "      <td>1.0</td>\n",
       "      <td>1.0</td>\n",
       "      <td>1.0</td>\n",
       "      <td>2.0</td>\n",
       "      <td>2.0</td>\n",
       "      <td>1.0</td>\n",
       "      <td>2.0</td>\n",
       "    </tr>\n",
       "    <tr>\n",
       "      <th>AGE</th>\n",
       "      <td>35.0</td>\n",
       "      <td>46.0</td>\n",
       "      <td>35.0</td>\n",
       "      <td>35.0</td>\n",
       "      <td>46.0</td>\n",
       "      <td>54.0</td>\n",
       "      <td>46.0</td>\n",
       "      <td>39.0</td>\n",
       "      <td>44.0</td>\n",
       "      <td>39.0</td>\n",
       "    </tr>\n",
       "    <tr>\n",
       "      <th>PAY_0</th>\n",
       "      <td>0.0</td>\n",
       "      <td>0.0</td>\n",
       "      <td>-2.0</td>\n",
       "      <td>-1.0</td>\n",
       "      <td>-1.0</td>\n",
       "      <td>-2.0</td>\n",
       "      <td>-1.0</td>\n",
       "      <td>0.0</td>\n",
       "      <td>-1.0</td>\n",
       "      <td>0.0</td>\n",
       "    </tr>\n",
       "    <tr>\n",
       "      <th>PAY_2</th>\n",
       "      <td>0.0</td>\n",
       "      <td>0.0</td>\n",
       "      <td>-2.0</td>\n",
       "      <td>-1.0</td>\n",
       "      <td>2.0</td>\n",
       "      <td>-2.0</td>\n",
       "      <td>-1.0</td>\n",
       "      <td>0.0</td>\n",
       "      <td>-1.0</td>\n",
       "      <td>0.0</td>\n",
       "    </tr>\n",
       "    <tr>\n",
       "      <th>PAY_3</th>\n",
       "      <td>0.0</td>\n",
       "      <td>2.0</td>\n",
       "      <td>-2.0</td>\n",
       "      <td>-1.0</td>\n",
       "      <td>2.0</td>\n",
       "      <td>-2.0</td>\n",
       "      <td>-1.0</td>\n",
       "      <td>0.0</td>\n",
       "      <td>-1.0</td>\n",
       "      <td>0.0</td>\n",
       "    </tr>\n",
       "    <tr>\n",
       "      <th>PAY_4</th>\n",
       "      <td>0.0</td>\n",
       "      <td>2.0</td>\n",
       "      <td>-2.0</td>\n",
       "      <td>-1.0</td>\n",
       "      <td>4.0</td>\n",
       "      <td>-2.0</td>\n",
       "      <td>-1.0</td>\n",
       "      <td>0.0</td>\n",
       "      <td>-1.0</td>\n",
       "      <td>0.0</td>\n",
       "    </tr>\n",
       "    <tr>\n",
       "      <th>PAY_5</th>\n",
       "      <td>0.0</td>\n",
       "      <td>0.0</td>\n",
       "      <td>-2.0</td>\n",
       "      <td>0.0</td>\n",
       "      <td>3.0</td>\n",
       "      <td>-1.0</td>\n",
       "      <td>-1.0</td>\n",
       "      <td>0.0</td>\n",
       "      <td>-1.0</td>\n",
       "      <td>0.0</td>\n",
       "    </tr>\n",
       "    <tr>\n",
       "      <th>PAY_6</th>\n",
       "      <td>0.0</td>\n",
       "      <td>0.0</td>\n",
       "      <td>-2.0</td>\n",
       "      <td>-1.0</td>\n",
       "      <td>2.0</td>\n",
       "      <td>0.0</td>\n",
       "      <td>-1.0</td>\n",
       "      <td>0.0</td>\n",
       "      <td>-1.0</td>\n",
       "      <td>-1.0</td>\n",
       "    </tr>\n",
       "    <tr>\n",
       "      <th>BILL_AMT1</th>\n",
       "      <td>69388.0</td>\n",
       "      <td>94025.0</td>\n",
       "      <td>3327.0</td>\n",
       "      <td>10118.0</td>\n",
       "      <td>6277.0</td>\n",
       "      <td>-30.0</td>\n",
       "      <td>396.0</td>\n",
       "      <td>120766.0</td>\n",
       "      <td>390.0</td>\n",
       "      <td>60514.0</td>\n",
       "    </tr>\n",
       "    <tr>\n",
       "      <th>BILL_AMT2</th>\n",
       "      <td>70480.0</td>\n",
       "      <td>101460.0</td>\n",
       "      <td>-17.0</td>\n",
       "      <td>2105.0</td>\n",
       "      <td>7019.0</td>\n",
       "      <td>-420.0</td>\n",
       "      <td>396.0</td>\n",
       "      <td>55164.0</td>\n",
       "      <td>0.0</td>\n",
       "      <td>33711.0</td>\n",
       "    </tr>\n",
       "    <tr>\n",
       "      <th>BILL_AMT3</th>\n",
       "      <td>66646.0</td>\n",
       "      <td>102724.0</td>\n",
       "      <td>2706.0</td>\n",
       "      <td>483.0</td>\n",
       "      <td>9557.0</td>\n",
       "      <td>390.0</td>\n",
       "      <td>396.0</td>\n",
       "      <td>41549.0</td>\n",
       "      <td>780.0</td>\n",
       "      <td>21660.0</td>\n",
       "    </tr>\n",
       "    <tr>\n",
       "      <th>BILL_AMT4</th>\n",
       "      <td>69641.0</td>\n",
       "      <td>100188.0</td>\n",
       "      <td>0.0</td>\n",
       "      <td>5452.0</td>\n",
       "      <td>9269.0</td>\n",
       "      <td>390.0</td>\n",
       "      <td>396.0</td>\n",
       "      <td>31966.0</td>\n",
       "      <td>337.0</td>\n",
       "      <td>23307.0</td>\n",
       "    </tr>\n",
       "    <tr>\n",
       "      <th>BILL_AMT5</th>\n",
       "      <td>46458.0</td>\n",
       "      <td>102110.0</td>\n",
       "      <td>0.0</td>\n",
       "      <td>389.0</td>\n",
       "      <td>8836.0</td>\n",
       "      <td>166210.0</td>\n",
       "      <td>396.0</td>\n",
       "      <td>31071.0</td>\n",
       "      <td>1234.0</td>\n",
       "      <td>15135.0</td>\n",
       "    </tr>\n",
       "    <tr>\n",
       "      <th>BILL_AMT6</th>\n",
       "      <td>50679.0</td>\n",
       "      <td>107014.0</td>\n",
       "      <td>92472.0</td>\n",
       "      <td>389.0</td>\n",
       "      <td>8548.0</td>\n",
       "      <td>129716.0</td>\n",
       "      <td>396.0</td>\n",
       "      <td>30476.0</td>\n",
       "      <td>0.0</td>\n",
       "      <td>3527.0</td>\n",
       "    </tr>\n",
       "    <tr>\n",
       "      <th>PAY_AMT1</th>\n",
       "      <td>3439.0</td>\n",
       "      <td>8942.0</td>\n",
       "      <td>0.0</td>\n",
       "      <td>2106.0</td>\n",
       "      <td>1000.0</td>\n",
       "      <td>0.0</td>\n",
       "      <td>396.0</td>\n",
       "      <td>4000.0</td>\n",
       "      <td>0.0</td>\n",
       "      <td>5011.0</td>\n",
       "    </tr>\n",
       "    <tr>\n",
       "      <th>PAY_AMT2</th>\n",
       "      <td>3237.0</td>\n",
       "      <td>3800.0</td>\n",
       "      <td>2723.0</td>\n",
       "      <td>486.0</td>\n",
       "      <td>2819.0</td>\n",
       "      <td>1200.0</td>\n",
       "      <td>396.0</td>\n",
       "      <td>2000.0</td>\n",
       "      <td>780.0</td>\n",
       "      <td>5000.0</td>\n",
       "    </tr>\n",
       "    <tr>\n",
       "      <th>PAY_AMT3</th>\n",
       "      <td>4938.0</td>\n",
       "      <td>0.0</td>\n",
       "      <td>0.0</td>\n",
       "      <td>6175.0</td>\n",
       "      <td>0.0</td>\n",
       "      <td>390.0</td>\n",
       "      <td>396.0</td>\n",
       "      <td>1500.0</td>\n",
       "      <td>337.0</td>\n",
       "      <td>6538.0</td>\n",
       "    </tr>\n",
       "    <tr>\n",
       "      <th>PAY_AMT4</th>\n",
       "      <td>1693.0</td>\n",
       "      <td>3685.0</td>\n",
       "      <td>0.0</td>\n",
       "      <td>1.0</td>\n",
       "      <td>0.0</td>\n",
       "      <td>166210.0</td>\n",
       "      <td>396.0</td>\n",
       "      <td>1200.0</td>\n",
       "      <td>1234.0</td>\n",
       "      <td>4167.0</td>\n",
       "    </tr>\n",
       "    <tr>\n",
       "      <th>PAY_AMT5</th>\n",
       "      <td>5000.0</td>\n",
       "      <td>6580.0</td>\n",
       "      <td>92472.0</td>\n",
       "      <td>390.0</td>\n",
       "      <td>0.0</td>\n",
       "      <td>6000.0</td>\n",
       "      <td>396.0</td>\n",
       "      <td>1500.0</td>\n",
       "      <td>0.0</td>\n",
       "      <td>3527.0</td>\n",
       "    </tr>\n",
       "    <tr>\n",
       "      <th>PAY_AMT6</th>\n",
       "      <td>2200.0</td>\n",
       "      <td>4703.0</td>\n",
       "      <td>10000.0</td>\n",
       "      <td>390.0</td>\n",
       "      <td>250.0</td>\n",
       "      <td>3000.0</td>\n",
       "      <td>396.0</td>\n",
       "      <td>1500.0</td>\n",
       "      <td>0.0</td>\n",
       "      <td>7521.0</td>\n",
       "    </tr>\n",
       "    <tr>\n",
       "      <th>default.payment.next.month</th>\n",
       "      <td>1.0</td>\n",
       "      <td>1.0</td>\n",
       "      <td>0.0</td>\n",
       "      <td>0.0</td>\n",
       "      <td>1.0</td>\n",
       "      <td>0.0</td>\n",
       "      <td>0.0</td>\n",
       "      <td>1.0</td>\n",
       "      <td>1.0</td>\n",
       "      <td>0.0</td>\n",
       "    </tr>\n",
       "  </tbody>\n",
       "</table>\n",
       "</div>"
      ],
      "text/plain": [
       "                              16755     2582      19825     5058     10194  \\\n",
       "ID                          16756.0    2583.0   19826.0    5059.0  10195.0   \n",
       "LIMIT_BAL                   70000.0  110000.0  220000.0  200000.0  10000.0   \n",
       "SEX                             1.0       2.0       2.0       2.0      1.0   \n",
       "EDUCATION                       2.0       3.0       2.0       1.0      3.0   \n",
       "MARRIAGE                        1.0       1.0       2.0       1.0      1.0   \n",
       "AGE                            35.0      46.0      35.0      35.0     46.0   \n",
       "PAY_0                           0.0       0.0      -2.0      -1.0     -1.0   \n",
       "PAY_2                           0.0       0.0      -2.0      -1.0      2.0   \n",
       "PAY_3                           0.0       2.0      -2.0      -1.0      2.0   \n",
       "PAY_4                           0.0       2.0      -2.0      -1.0      4.0   \n",
       "PAY_5                           0.0       0.0      -2.0       0.0      3.0   \n",
       "PAY_6                           0.0       0.0      -2.0      -1.0      2.0   \n",
       "BILL_AMT1                   69388.0   94025.0    3327.0   10118.0   6277.0   \n",
       "BILL_AMT2                   70480.0  101460.0     -17.0    2105.0   7019.0   \n",
       "BILL_AMT3                   66646.0  102724.0    2706.0     483.0   9557.0   \n",
       "BILL_AMT4                   69641.0  100188.0       0.0    5452.0   9269.0   \n",
       "BILL_AMT5                   46458.0  102110.0       0.0     389.0   8836.0   \n",
       "BILL_AMT6                   50679.0  107014.0   92472.0     389.0   8548.0   \n",
       "PAY_AMT1                     3439.0    8942.0       0.0    2106.0   1000.0   \n",
       "PAY_AMT2                     3237.0    3800.0    2723.0     486.0   2819.0   \n",
       "PAY_AMT3                     4938.0       0.0       0.0    6175.0      0.0   \n",
       "PAY_AMT4                     1693.0    3685.0       0.0       1.0      0.0   \n",
       "PAY_AMT5                     5000.0    6580.0   92472.0     390.0      0.0   \n",
       "PAY_AMT6                     2200.0    4703.0   10000.0     390.0    250.0   \n",
       "default.payment.next.month      1.0       1.0       0.0       0.0      1.0   \n",
       "\n",
       "                               27575     9978      24431     25534     28353  \n",
       "ID                           27576.0    9979.0   24432.0   25535.0   28354.0  \n",
       "LIMIT_BAL                   530000.0  200000.0   70000.0  120000.0  170000.0  \n",
       "SEX                              1.0       1.0       1.0       2.0       2.0  \n",
       "EDUCATION                        2.0       3.0       2.0       2.0       1.0  \n",
       "MARRIAGE                         1.0       2.0       2.0       1.0       2.0  \n",
       "AGE                             54.0      46.0      39.0      44.0      39.0  \n",
       "PAY_0                           -2.0      -1.0       0.0      -1.0       0.0  \n",
       "PAY_2                           -2.0      -1.0       0.0      -1.0       0.0  \n",
       "PAY_3                           -2.0      -1.0       0.0      -1.0       0.0  \n",
       "PAY_4                           -2.0      -1.0       0.0      -1.0       0.0  \n",
       "PAY_5                           -1.0      -1.0       0.0      -1.0       0.0  \n",
       "PAY_6                            0.0      -1.0       0.0      -1.0      -1.0  \n",
       "BILL_AMT1                      -30.0     396.0  120766.0     390.0   60514.0  \n",
       "BILL_AMT2                     -420.0     396.0   55164.0       0.0   33711.0  \n",
       "BILL_AMT3                      390.0     396.0   41549.0     780.0   21660.0  \n",
       "BILL_AMT4                      390.0     396.0   31966.0     337.0   23307.0  \n",
       "BILL_AMT5                   166210.0     396.0   31071.0    1234.0   15135.0  \n",
       "BILL_AMT6                   129716.0     396.0   30476.0       0.0    3527.0  \n",
       "PAY_AMT1                         0.0     396.0    4000.0       0.0    5011.0  \n",
       "PAY_AMT2                      1200.0     396.0    2000.0     780.0    5000.0  \n",
       "PAY_AMT3                       390.0     396.0    1500.0     337.0    6538.0  \n",
       "PAY_AMT4                    166210.0     396.0    1200.0    1234.0    4167.0  \n",
       "PAY_AMT5                      6000.0     396.0    1500.0       0.0    3527.0  \n",
       "PAY_AMT6                      3000.0     396.0    1500.0       0.0    7521.0  \n",
       "default.payment.next.month       0.0       0.0       1.0       1.0       0.0  "
      ]
     },
     "execution_count": 21,
     "metadata": {},
     "output_type": "execute_result"
    }
   ],
   "source": [
    "data = pd.read_csv('F:/Credit_Card_Default_Prediction_and_Model_Deployment_Project/notebooks/data/UCI_Credit_Card.csv')\n",
    "data_train,data_test = train_test_split(data,random_state=42,test_size=.15)\n",
    "data_train.sample(10).T"
   ]
  },
  {
   "cell_type": "markdown",
   "metadata": {},
   "source": [
    "Basic Information extraction from data"
   ]
  },
  {
   "cell_type": "code",
   "execution_count": 22,
   "metadata": {},
   "outputs": [
    {
     "name": "stdout",
     "output_type": "stream",
     "text": [
      "<class 'pandas.core.frame.DataFrame'>\n",
      "Int64Index: 25500 entries, 17443 to 23654\n",
      "Data columns (total 25 columns):\n",
      " #   Column                      Non-Null Count  Dtype  \n",
      "---  ------                      --------------  -----  \n",
      " 0   ID                          25500 non-null  int64  \n",
      " 1   LIMIT_BAL                   25500 non-null  float64\n",
      " 2   SEX                         25500 non-null  int64  \n",
      " 3   EDUCATION                   25500 non-null  int64  \n",
      " 4   MARRIAGE                    25500 non-null  int64  \n",
      " 5   AGE                         25500 non-null  int64  \n",
      " 6   PAY_0                       25500 non-null  int64  \n",
      " 7   PAY_2                       25500 non-null  int64  \n",
      " 8   PAY_3                       25500 non-null  int64  \n",
      " 9   PAY_4                       25500 non-null  int64  \n",
      " 10  PAY_5                       25500 non-null  int64  \n",
      " 11  PAY_6                       25500 non-null  int64  \n",
      " 12  BILL_AMT1                   25500 non-null  float64\n",
      " 13  BILL_AMT2                   25500 non-null  float64\n",
      " 14  BILL_AMT3                   25500 non-null  float64\n",
      " 15  BILL_AMT4                   25500 non-null  float64\n",
      " 16  BILL_AMT5                   25500 non-null  float64\n",
      " 17  BILL_AMT6                   25500 non-null  float64\n",
      " 18  PAY_AMT1                    25500 non-null  float64\n",
      " 19  PAY_AMT2                    25500 non-null  float64\n",
      " 20  PAY_AMT3                    25500 non-null  float64\n",
      " 21  PAY_AMT4                    25500 non-null  float64\n",
      " 22  PAY_AMT5                    25500 non-null  float64\n",
      " 23  PAY_AMT6                    25500 non-null  float64\n",
      " 24  default.payment.next.month  25500 non-null  int64  \n",
      "dtypes: float64(13), int64(12)\n",
      "memory usage: 5.1 MB\n"
     ]
    }
   ],
   "source": [
    "df = data_train.copy()\n",
    "df.info()"
   ]
  },
  {
   "cell_type": "code",
   "execution_count": 23,
   "metadata": {},
   "outputs": [
    {
     "data": {
      "text/plain": [
       "ID                            0\n",
       "LIMIT_BAL                     0\n",
       "SEX                           0\n",
       "EDUCATION                     0\n",
       "MARRIAGE                      0\n",
       "AGE                           0\n",
       "PAY_0                         0\n",
       "PAY_2                         0\n",
       "PAY_3                         0\n",
       "PAY_4                         0\n",
       "PAY_5                         0\n",
       "PAY_6                         0\n",
       "BILL_AMT1                     0\n",
       "BILL_AMT2                     0\n",
       "BILL_AMT3                     0\n",
       "BILL_AMT4                     0\n",
       "BILL_AMT5                     0\n",
       "BILL_AMT6                     0\n",
       "PAY_AMT1                      0\n",
       "PAY_AMT2                      0\n",
       "PAY_AMT3                      0\n",
       "PAY_AMT4                      0\n",
       "PAY_AMT5                      0\n",
       "PAY_AMT6                      0\n",
       "default.payment.next.month    0\n",
       "dtype: int64"
      ]
     },
     "execution_count": 23,
     "metadata": {},
     "output_type": "execute_result"
    }
   ],
   "source": [
    "df.isnull().sum()"
   ]
  },
  {
   "cell_type": "code",
   "execution_count": 24,
   "metadata": {},
   "outputs": [
    {
     "name": "stdout",
     "output_type": "stream",
     "text": [
      "Data has no Duplicate rows\n"
     ]
    }
   ],
   "source": [
    "duplicates = df.duplicated().sum()\n",
    "if duplicates==0:\n",
    "    print(\"Data has no Duplicate rows\")\n",
    "else:\n",
    "    print(f\"Data has {duplicates} entries.\")"
   ]
  },
  {
   "cell_type": "code",
   "execution_count": 25,
   "metadata": {},
   "outputs": [
    {
     "data": {
      "text/html": [
       "<div>\n",
       "<style scoped>\n",
       "    .dataframe tbody tr th:only-of-type {\n",
       "        vertical-align: middle;\n",
       "    }\n",
       "\n",
       "    .dataframe tbody tr th {\n",
       "        vertical-align: top;\n",
       "    }\n",
       "\n",
       "    .dataframe thead th {\n",
       "        text-align: right;\n",
       "    }\n",
       "</style>\n",
       "<table border=\"1\" class=\"dataframe\">\n",
       "  <thead>\n",
       "    <tr style=\"text-align: right;\">\n",
       "      <th></th>\n",
       "      <th>count</th>\n",
       "      <th>mean</th>\n",
       "      <th>std</th>\n",
       "      <th>min</th>\n",
       "      <th>25%</th>\n",
       "      <th>50%</th>\n",
       "      <th>75%</th>\n",
       "      <th>max</th>\n",
       "    </tr>\n",
       "  </thead>\n",
       "  <tbody>\n",
       "    <tr>\n",
       "      <th>ID</th>\n",
       "      <td>25500.0</td>\n",
       "      <td>14997.947490</td>\n",
       "      <td>8676.752735</td>\n",
       "      <td>1.0</td>\n",
       "      <td>7450.75</td>\n",
       "      <td>15033.5</td>\n",
       "      <td>22500.50</td>\n",
       "      <td>29999.0</td>\n",
       "    </tr>\n",
       "    <tr>\n",
       "      <th>LIMIT_BAL</th>\n",
       "      <td>25500.0</td>\n",
       "      <td>167436.458039</td>\n",
       "      <td>129837.118639</td>\n",
       "      <td>10000.0</td>\n",
       "      <td>50000.00</td>\n",
       "      <td>140000.0</td>\n",
       "      <td>240000.00</td>\n",
       "      <td>1000000.0</td>\n",
       "    </tr>\n",
       "    <tr>\n",
       "      <th>SEX</th>\n",
       "      <td>25500.0</td>\n",
       "      <td>1.604667</td>\n",
       "      <td>0.488932</td>\n",
       "      <td>1.0</td>\n",
       "      <td>1.00</td>\n",
       "      <td>2.0</td>\n",
       "      <td>2.00</td>\n",
       "      <td>2.0</td>\n",
       "    </tr>\n",
       "    <tr>\n",
       "      <th>EDUCATION</th>\n",
       "      <td>25500.0</td>\n",
       "      <td>1.852824</td>\n",
       "      <td>0.791803</td>\n",
       "      <td>0.0</td>\n",
       "      <td>1.00</td>\n",
       "      <td>2.0</td>\n",
       "      <td>2.00</td>\n",
       "      <td>6.0</td>\n",
       "    </tr>\n",
       "    <tr>\n",
       "      <th>MARRIAGE</th>\n",
       "      <td>25500.0</td>\n",
       "      <td>1.551961</td>\n",
       "      <td>0.522754</td>\n",
       "      <td>0.0</td>\n",
       "      <td>1.00</td>\n",
       "      <td>2.0</td>\n",
       "      <td>2.00</td>\n",
       "      <td>3.0</td>\n",
       "    </tr>\n",
       "    <tr>\n",
       "      <th>AGE</th>\n",
       "      <td>25500.0</td>\n",
       "      <td>35.503333</td>\n",
       "      <td>9.235048</td>\n",
       "      <td>21.0</td>\n",
       "      <td>28.00</td>\n",
       "      <td>34.0</td>\n",
       "      <td>42.00</td>\n",
       "      <td>79.0</td>\n",
       "    </tr>\n",
       "    <tr>\n",
       "      <th>PAY_0</th>\n",
       "      <td>25500.0</td>\n",
       "      <td>-0.016275</td>\n",
       "      <td>1.126813</td>\n",
       "      <td>-2.0</td>\n",
       "      <td>-1.00</td>\n",
       "      <td>0.0</td>\n",
       "      <td>0.00</td>\n",
       "      <td>8.0</td>\n",
       "    </tr>\n",
       "    <tr>\n",
       "      <th>PAY_2</th>\n",
       "      <td>25500.0</td>\n",
       "      <td>-0.131882</td>\n",
       "      <td>1.196710</td>\n",
       "      <td>-2.0</td>\n",
       "      <td>-1.00</td>\n",
       "      <td>0.0</td>\n",
       "      <td>0.00</td>\n",
       "      <td>8.0</td>\n",
       "    </tr>\n",
       "    <tr>\n",
       "      <th>PAY_3</th>\n",
       "      <td>25500.0</td>\n",
       "      <td>-0.166706</td>\n",
       "      <td>1.192883</td>\n",
       "      <td>-2.0</td>\n",
       "      <td>-1.00</td>\n",
       "      <td>0.0</td>\n",
       "      <td>0.00</td>\n",
       "      <td>8.0</td>\n",
       "    </tr>\n",
       "    <tr>\n",
       "      <th>PAY_4</th>\n",
       "      <td>25500.0</td>\n",
       "      <td>-0.218667</td>\n",
       "      <td>1.168375</td>\n",
       "      <td>-2.0</td>\n",
       "      <td>-1.00</td>\n",
       "      <td>0.0</td>\n",
       "      <td>0.00</td>\n",
       "      <td>8.0</td>\n",
       "    </tr>\n",
       "    <tr>\n",
       "      <th>PAY_5</th>\n",
       "      <td>25500.0</td>\n",
       "      <td>-0.264157</td>\n",
       "      <td>1.132166</td>\n",
       "      <td>-2.0</td>\n",
       "      <td>-1.00</td>\n",
       "      <td>0.0</td>\n",
       "      <td>0.00</td>\n",
       "      <td>8.0</td>\n",
       "    </tr>\n",
       "    <tr>\n",
       "      <th>PAY_6</th>\n",
       "      <td>25500.0</td>\n",
       "      <td>-0.288118</td>\n",
       "      <td>1.151189</td>\n",
       "      <td>-2.0</td>\n",
       "      <td>-1.00</td>\n",
       "      <td>0.0</td>\n",
       "      <td>0.00</td>\n",
       "      <td>8.0</td>\n",
       "    </tr>\n",
       "    <tr>\n",
       "      <th>BILL_AMT1</th>\n",
       "      <td>25500.0</td>\n",
       "      <td>51154.158392</td>\n",
       "      <td>73720.356540</td>\n",
       "      <td>-165580.0</td>\n",
       "      <td>3565.00</td>\n",
       "      <td>22366.5</td>\n",
       "      <td>66803.50</td>\n",
       "      <td>964511.0</td>\n",
       "    </tr>\n",
       "    <tr>\n",
       "      <th>BILL_AMT2</th>\n",
       "      <td>25500.0</td>\n",
       "      <td>49116.369569</td>\n",
       "      <td>71257.228150</td>\n",
       "      <td>-69777.0</td>\n",
       "      <td>3000.00</td>\n",
       "      <td>21197.0</td>\n",
       "      <td>63396.00</td>\n",
       "      <td>983931.0</td>\n",
       "    </tr>\n",
       "    <tr>\n",
       "      <th>BILL_AMT3</th>\n",
       "      <td>25500.0</td>\n",
       "      <td>46935.585333</td>\n",
       "      <td>69477.130283</td>\n",
       "      <td>-157264.0</td>\n",
       "      <td>2729.25</td>\n",
       "      <td>20085.0</td>\n",
       "      <td>59765.75</td>\n",
       "      <td>1664089.0</td>\n",
       "    </tr>\n",
       "    <tr>\n",
       "      <th>BILL_AMT4</th>\n",
       "      <td>25500.0</td>\n",
       "      <td>43139.224941</td>\n",
       "      <td>64214.508636</td>\n",
       "      <td>-170000.0</td>\n",
       "      <td>2360.00</td>\n",
       "      <td>19033.0</td>\n",
       "      <td>54084.75</td>\n",
       "      <td>891586.0</td>\n",
       "    </tr>\n",
       "    <tr>\n",
       "      <th>BILL_AMT5</th>\n",
       "      <td>25500.0</td>\n",
       "      <td>40252.920588</td>\n",
       "      <td>60789.101393</td>\n",
       "      <td>-81334.0</td>\n",
       "      <td>1779.25</td>\n",
       "      <td>18085.0</td>\n",
       "      <td>50080.75</td>\n",
       "      <td>927171.0</td>\n",
       "    </tr>\n",
       "    <tr>\n",
       "      <th>BILL_AMT6</th>\n",
       "      <td>25500.0</td>\n",
       "      <td>38846.415529</td>\n",
       "      <td>59397.443604</td>\n",
       "      <td>-209051.0</td>\n",
       "      <td>1280.00</td>\n",
       "      <td>17129.0</td>\n",
       "      <td>49110.50</td>\n",
       "      <td>961664.0</td>\n",
       "    </tr>\n",
       "    <tr>\n",
       "      <th>PAY_AMT1</th>\n",
       "      <td>25500.0</td>\n",
       "      <td>5690.801373</td>\n",
       "      <td>17070.733348</td>\n",
       "      <td>0.0</td>\n",
       "      <td>1000.00</td>\n",
       "      <td>2100.0</td>\n",
       "      <td>5006.00</td>\n",
       "      <td>873552.0</td>\n",
       "    </tr>\n",
       "    <tr>\n",
       "      <th>PAY_AMT2</th>\n",
       "      <td>25500.0</td>\n",
       "      <td>5986.708627</td>\n",
       "      <td>24024.977617</td>\n",
       "      <td>0.0</td>\n",
       "      <td>863.50</td>\n",
       "      <td>2010.0</td>\n",
       "      <td>5000.00</td>\n",
       "      <td>1684259.0</td>\n",
       "    </tr>\n",
       "    <tr>\n",
       "      <th>PAY_AMT3</th>\n",
       "      <td>25500.0</td>\n",
       "      <td>5246.605294</td>\n",
       "      <td>18117.236738</td>\n",
       "      <td>0.0</td>\n",
       "      <td>390.00</td>\n",
       "      <td>1800.0</td>\n",
       "      <td>4507.00</td>\n",
       "      <td>896040.0</td>\n",
       "    </tr>\n",
       "    <tr>\n",
       "      <th>PAY_AMT4</th>\n",
       "      <td>25500.0</td>\n",
       "      <td>4829.790078</td>\n",
       "      <td>16021.336645</td>\n",
       "      <td>0.0</td>\n",
       "      <td>292.75</td>\n",
       "      <td>1500.0</td>\n",
       "      <td>4001.25</td>\n",
       "      <td>621000.0</td>\n",
       "    </tr>\n",
       "    <tr>\n",
       "      <th>PAY_AMT5</th>\n",
       "      <td>25500.0</td>\n",
       "      <td>4810.296706</td>\n",
       "      <td>15505.873498</td>\n",
       "      <td>0.0</td>\n",
       "      <td>256.75</td>\n",
       "      <td>1500.0</td>\n",
       "      <td>4024.00</td>\n",
       "      <td>426529.0</td>\n",
       "    </tr>\n",
       "    <tr>\n",
       "      <th>PAY_AMT6</th>\n",
       "      <td>25500.0</td>\n",
       "      <td>5187.016549</td>\n",
       "      <td>17568.450557</td>\n",
       "      <td>0.0</td>\n",
       "      <td>113.75</td>\n",
       "      <td>1500.0</td>\n",
       "      <td>4000.00</td>\n",
       "      <td>527143.0</td>\n",
       "    </tr>\n",
       "    <tr>\n",
       "      <th>default.payment.next.month</th>\n",
       "      <td>25500.0</td>\n",
       "      <td>0.220902</td>\n",
       "      <td>0.414863</td>\n",
       "      <td>0.0</td>\n",
       "      <td>0.00</td>\n",
       "      <td>0.0</td>\n",
       "      <td>0.00</td>\n",
       "      <td>1.0</td>\n",
       "    </tr>\n",
       "  </tbody>\n",
       "</table>\n",
       "</div>"
      ],
      "text/plain": [
       "                              count           mean            std       min  \\\n",
       "ID                          25500.0   14997.947490    8676.752735       1.0   \n",
       "LIMIT_BAL                   25500.0  167436.458039  129837.118639   10000.0   \n",
       "SEX                         25500.0       1.604667       0.488932       1.0   \n",
       "EDUCATION                   25500.0       1.852824       0.791803       0.0   \n",
       "MARRIAGE                    25500.0       1.551961       0.522754       0.0   \n",
       "AGE                         25500.0      35.503333       9.235048      21.0   \n",
       "PAY_0                       25500.0      -0.016275       1.126813      -2.0   \n",
       "PAY_2                       25500.0      -0.131882       1.196710      -2.0   \n",
       "PAY_3                       25500.0      -0.166706       1.192883      -2.0   \n",
       "PAY_4                       25500.0      -0.218667       1.168375      -2.0   \n",
       "PAY_5                       25500.0      -0.264157       1.132166      -2.0   \n",
       "PAY_6                       25500.0      -0.288118       1.151189      -2.0   \n",
       "BILL_AMT1                   25500.0   51154.158392   73720.356540 -165580.0   \n",
       "BILL_AMT2                   25500.0   49116.369569   71257.228150  -69777.0   \n",
       "BILL_AMT3                   25500.0   46935.585333   69477.130283 -157264.0   \n",
       "BILL_AMT4                   25500.0   43139.224941   64214.508636 -170000.0   \n",
       "BILL_AMT5                   25500.0   40252.920588   60789.101393  -81334.0   \n",
       "BILL_AMT6                   25500.0   38846.415529   59397.443604 -209051.0   \n",
       "PAY_AMT1                    25500.0    5690.801373   17070.733348       0.0   \n",
       "PAY_AMT2                    25500.0    5986.708627   24024.977617       0.0   \n",
       "PAY_AMT3                    25500.0    5246.605294   18117.236738       0.0   \n",
       "PAY_AMT4                    25500.0    4829.790078   16021.336645       0.0   \n",
       "PAY_AMT5                    25500.0    4810.296706   15505.873498       0.0   \n",
       "PAY_AMT6                    25500.0    5187.016549   17568.450557       0.0   \n",
       "default.payment.next.month  25500.0       0.220902       0.414863       0.0   \n",
       "\n",
       "                                 25%       50%        75%        max  \n",
       "ID                           7450.75   15033.5   22500.50    29999.0  \n",
       "LIMIT_BAL                   50000.00  140000.0  240000.00  1000000.0  \n",
       "SEX                             1.00       2.0       2.00        2.0  \n",
       "EDUCATION                       1.00       2.0       2.00        6.0  \n",
       "MARRIAGE                        1.00       2.0       2.00        3.0  \n",
       "AGE                            28.00      34.0      42.00       79.0  \n",
       "PAY_0                          -1.00       0.0       0.00        8.0  \n",
       "PAY_2                          -1.00       0.0       0.00        8.0  \n",
       "PAY_3                          -1.00       0.0       0.00        8.0  \n",
       "PAY_4                          -1.00       0.0       0.00        8.0  \n",
       "PAY_5                          -1.00       0.0       0.00        8.0  \n",
       "PAY_6                          -1.00       0.0       0.00        8.0  \n",
       "BILL_AMT1                    3565.00   22366.5   66803.50   964511.0  \n",
       "BILL_AMT2                    3000.00   21197.0   63396.00   983931.0  \n",
       "BILL_AMT3                    2729.25   20085.0   59765.75  1664089.0  \n",
       "BILL_AMT4                    2360.00   19033.0   54084.75   891586.0  \n",
       "BILL_AMT5                    1779.25   18085.0   50080.75   927171.0  \n",
       "BILL_AMT6                    1280.00   17129.0   49110.50   961664.0  \n",
       "PAY_AMT1                     1000.00    2100.0    5006.00   873552.0  \n",
       "PAY_AMT2                      863.50    2010.0    5000.00  1684259.0  \n",
       "PAY_AMT3                      390.00    1800.0    4507.00   896040.0  \n",
       "PAY_AMT4                      292.75    1500.0    4001.25   621000.0  \n",
       "PAY_AMT5                      256.75    1500.0    4024.00   426529.0  \n",
       "PAY_AMT6                      113.75    1500.0    4000.00   527143.0  \n",
       "default.payment.next.month      0.00       0.0       0.00        1.0  "
      ]
     },
     "execution_count": 25,
     "metadata": {},
     "output_type": "execute_result"
    }
   ],
   "source": [
    "df.describe().T"
   ]
  },
  {
   "cell_type": "markdown",
   "metadata": {},
   "source": [
    "### Overview on data\n",
    "- Data has 30000 Rows and 25 columns. But this data can be devided into 9 parts ('ID', 'LIMIT_BAL', 'SEX', 'EDUCATION', 'MARRIAGE', 'AGE', 'PAY', 'BILL_AMT', 'PAY_AMT','target_column')\n",
    "- ID columns has no relation with other coulmns so it can droped.\n",
    "- Data is prety good as it has no empty elements in any columns and also there is no duplicate entries in data.\n",
    "- SEX: Gender (1=male, 2=female)\n",
    "- EDUCATION: (1=graduate school, 2=university, 3=high school, 4=others, 5=unknown, 6=unknown) :- Here (1=graduate school, 2=university, 3=high school) are perfectly define orderd categories but we have no more info related to ( 4=others, 5=unknown, 6=unknown) these columns so we can concatenate these columns and put it as 0 or 4 to messure there impact in our further analysis.\n",
    "- MARRIAGE: Marital status (1=married, 2=single, 3=others) :-  (3=others) for these column, there is no to much info so we need to carefully analysis this column and messure the impact on our analysis.\n",
    "- PAY: Repayment status in Months, 2005 (-1=pay duly, 1=payment delay for one month, 2=payment delay for two months, … 8=payment delay for eight months, 9=payment delay for nine months and above)\n",
    "- default.payment.next.month: Default payment (1=yes, 0=no)"
   ]
  },
  {
   "cell_type": "code",
   "execution_count": 26,
   "metadata": {},
   "outputs": [],
   "source": [
    "df.drop(columns='ID',inplace=True)"
   ]
  },
  {
   "cell_type": "markdown",
   "metadata": {},
   "source": [
    "### Target column (default.payment.next.month) analysis"
   ]
  },
  {
   "cell_type": "code",
   "execution_count": 27,
   "metadata": {},
   "outputs": [
    {
     "name": "stdout",
     "output_type": "stream",
     "text": [
      "Inference \n",
      "Probability of Non Defaulters : 0.78\n",
      "Probability of defaulters :0.22\n"
     ]
    },
    {
     "data": {
      "image/png": "[encoded data removed]",
      "text/plain": [
       "<Figure size 640x480 with 1 Axes>"
      ]
     },
     "metadata": {},
     "output_type": "display_data"
    }
   ],
   "source": [
    "Target = 'default.payment.next.month'\n",
    "Non_Defaulters,Defaulters = round(df[Target].value_counts(normalize=True),2)\n",
    "print(f\"Inference \\nProbability of Non Defaulters : {Non_Defaulters}\\nProbability of defaulters :{Defaulters}\")\n",
    "# Visual repersentation\n",
    "plt.bar(['Non_Defaulters','Defaulters'],[Non_Defaulters,Defaulters],color=['r','g'])\n",
    "plt.title(\"Non Defaulters vs Defaulters\")\n",
    "#plt.style.use('dark_background')\n",
    "plt.grid()\n",
    "plt.show()"
   ]
  },
  {
   "cell_type": "markdown",
   "metadata": {},
   "source": [
    "- Traget coulmns has 78% data of Non Defaulters data and rest of data is rerlated to Defaulters.\n",
    "- So we can say this is not very balanced dataset to perform classification for defaulters.\n"
   ]
  },
  {
   "cell_type": "markdown",
   "metadata": {},
   "source": [
    "LIMIT_BAL : Amount of given credit in NT dollars (includes individual and family/supplementary credit)"
   ]
  },
  {
   "cell_type": "code",
   "execution_count": 28,
   "metadata": {},
   "outputs": [
    {
     "data": {
      "image/png": "[encoded data removed]",
      "text/plain": [
       "<Figure size 1200x500 with 2 Axes>"
      ]
     },
     "metadata": {},
     "output_type": "display_data"
    }
   ],
   "source": [
    "fig,(ax1,ax2) = plt.subplots(ncols=2,nrows=1,figsize = (12,5));\n",
    "sns.histplot(df['LIMIT_BAL'],ax=ax1,kde =True);\n",
    "ax1.grid();\n",
    "sns.boxplot(df['LIMIT_BAL'],ax=ax2);"
   ]
  },
  {
   "cell_type": "markdown",
   "metadata": {},
   "source": [
    "From the conclusion of this plots :\n",
    "- This columns has right skewed distribution.\n",
    "- With right skewed distribution it has also a lot of outliers.        \n",
    "\n",
    "lets apply yeo-johnson transformatiion to make it normally distributed data."
   ]
  },
  {
   "cell_type": "code",
   "execution_count": 29,
   "metadata": {},
   "outputs": [
    {
     "data": {
      "image/png": "[encoded data removed]",
      "text/plain": [
       "<Figure size 1200x500 with 2 Axes>"
      ]
     },
     "metadata": {},
     "output_type": "display_data"
    }
   ],
   "source": [
    "from sklearn.preprocessing import PowerTransformer\n",
    "df1 = pd.DataFrame(df['LIMIT_BAL'])\n",
    "pt1 = PowerTransformer()\n",
    "limit_bal_trans = pt1.fit_transform(df1)\n",
    "limit_bal_trans= pd.DataFrame(limit_bal_trans,columns=['Limit_bal'])\n",
    "\n",
    "fig,(ax1,ax2) = plt.subplots(ncols=2,nrows=1,figsize = (12,5));\n",
    "sns.histplot(limit_bal_trans['Limit_bal'],ax=ax1,kde =True);\n",
    "ax1.grid();\n",
    "sns.boxplot(limit_bal_trans['Limit_bal'],ax=ax2);\n"
   ]
  },
  {
   "cell_type": "code",
   "execution_count": 30,
   "metadata": {},
   "outputs": [
    {
     "data": {
      "image/png": "[encoded data removed]",
      "text/plain": [
       "<Figure size 640x480 with 1 Axes>"
      ]
     },
     "metadata": {},
     "output_type": "display_data"
    }
   ],
   "source": [
    "import scipy.stats as st\n",
    "fig,ax = plt.subplots(ncols=1,nrows=1)\n",
    "st.probplot(limit_bal_trans['Limit_bal'],dist='norm',plot=ax);"
   ]
  },
  {
   "cell_type": "markdown",
   "metadata": {},
   "source": [
    "- With yeo-jhonshon transformation we can remove almost all outliers and also got a distribution near to normal transformation"
   ]
  },
  {
   "cell_type": "markdown",
   "metadata": {},
   "source": [
    "#### Sex, Education, Marrige  m\n"
   ]
  },
  {
   "cell_type": "code",
   "execution_count": 31,
   "metadata": {},
   "outputs": [
    {
     "name": "stdout",
     "output_type": "stream",
     "text": [
      "Unique values in sex column : [2 1]\n",
      "Unique values in Educaton column : [2 4 1 3 5 6 0]\n",
      "Unique values in Martial status column : [1 2 0 3]\n"
     ]
    }
   ],
   "source": [
    "print(f\"Unique values in sex column : {df['SEX'].unique()}\")\n",
    "print(f\"Unique values in Educaton column : {df['EDUCATION'].unique()}\")\n",
    "print(f\"Unique values in Martial status column : {df['MARRIAGE'].unique()}\")"
   ]
  },
  {
   "cell_type": "markdown",
   "metadata": {},
   "source": [
    "- Sex : Gender (1 = Male , 2 = Female)\n",
    "- Education : (1-Graduat school, 2-University, 3-high school, 4-Others, 5-Unknown, 6-Unknown)\n",
    "- Marrige : Martial status (1-married, 2-Single, 3=Other)"
   ]
  },
  {
   "cell_type": "code",
   "execution_count": 37,
   "metadata": {},
   "outputs": [],
   "source": [
    "def plot_category(cate_col):\n",
    "    plt.title('{0} vs DEFAULT PROBABILITY'.format(cate_col))\n",
    "    df.groupby(cate_col)['default.payment.next.month'].mean().plot.bar()\n",
    "    plt.grid()\n",
    "    # plt.style.use('dark_background') \n",
    "    plt.show()\n",
    "    print(df.groupby(cate_col)['default.payment.next.month'].mean())\n",
    "# Data[\"SEX\"] = Data[\"SEX\"].replace({\"male\":1,\"female\":2})\n",
    "\n",
    "# Prob_SEX=Data[\"SEX\"].value_counts(normalize=True)\n",
    "# plt.bar([\"male\",\"Female\"],Prob_SEX)"
   ]
  },
  {
   "cell_type": "code",
   "execution_count": 39,
   "metadata": {},
   "outputs": [
    {
     "data": {
      "image/png": "[encoded data removed]",
      "text/plain": [
       "<Figure size 640x480 with 1 Axes>"
      ]
     },
     "metadata": {},
     "output_type": "display_data"
    },
    {
     "name": "stdout",
     "output_type": "stream",
     "text": [
      "SEX\n",
      "1    0.242635\n",
      "2    0.206693\n",
      "Name: default.payment.next.month, dtype: float64\n"
     ]
    }
   ],
   "source": [
    "plot_category('SEX')"
   ]
  },
  {
   "cell_type": "markdown",
   "metadata": {},
   "source": [
    "Sex column has good balanced data between male and female"
   ]
  },
  {
   "cell_type": "code",
   "execution_count": 40,
   "metadata": {},
   "outputs": [
    {
     "data": {
      "image/png": "[encoded data removed]",
      "text/plain": [
       "<Figure size 640x480 with 1 Axes>"
      ]
     },
     "metadata": {},
     "output_type": "display_data"
    },
    {
     "name": "stdout",
     "output_type": "stream",
     "text": [
      "EDUCATION\n",
      "0    0.000000\n",
      "1    0.189141\n",
      "2    0.239818\n",
      "3    0.249583\n",
      "4    0.069307\n",
      "5    0.062762\n",
      "6    0.155556\n",
      "Name: default.payment.next.month, dtype: float64\n"
     ]
    }
   ],
   "source": [
    "plot_category('EDUCATION')"
   ]
  },
  {
   "cell_type": "markdown",
   "metadata": {},
   "source": [
    "In Education data we have no good information about elements 0,4,5 and 6, so we can combine them and make a single component for these elements. "
   ]
  },
  {
   "cell_type": "code",
   "execution_count": 42,
   "metadata": {},
   "outputs": [],
   "source": [
    "df[\"EDUCATION\"] = df[\"EDUCATION\"].replace({0:4,5:4,6:4})\n"
   ]
  },
  {
   "cell_type": "code",
   "execution_count": 43,
   "metadata": {},
   "outputs": [
    {
     "data": {
      "image/png": "[encoded data removed]",
      "text/plain": [
       "<Figure size 640x480 with 1 Axes>"
      ]
     },
     "metadata": {},
     "output_type": "display_data"
    },
    {
     "name": "stdout",
     "output_type": "stream",
     "text": [
      "EDUCATION\n",
      "1    0.189141\n",
      "2    0.239818\n",
      "3    0.249583\n",
      "4    0.073232\n",
      "Name: default.payment.next.month, dtype: float64\n"
     ]
    }
   ],
   "source": [
    "plot_category('EDUCATION')"
   ]
  },
  {
   "cell_type": "code",
   "execution_count": 41,
   "metadata": {},
   "outputs": [
    {
     "data": {
      "image/png": "[encoded data removed]",
      "text/plain": [
       "<Figure size 640x480 with 1 Axes>"
      ]
     },
     "metadata": {},
     "output_type": "display_data"
    },
    {
     "name": "stdout",
     "output_type": "stream",
     "text": [
      "MARRIAGE\n",
      "0    0.083333\n",
      "1    0.235188\n",
      "2    0.208306\n",
      "3    0.261484\n",
      "Name: default.payment.next.month, dtype: float64\n"
     ]
    }
   ],
   "source": [
    "plot_category('MARRIAGE')"
   ]
  },
  {
   "cell_type": "markdown",
   "metadata": {},
   "source": [
    "In Marrige column we have to unkonwn components 0 and 3 so now we can combine them make a single element."
   ]
  },
  {
   "cell_type": "code",
   "execution_count": 44,
   "metadata": {},
   "outputs": [],
   "source": [
    "df[\"MARRIAGE\"] = df[\"MARRIAGE\"].replace({0:3}) "
   ]
  },
  {
   "cell_type": "code",
   "execution_count": 45,
   "metadata": {},
   "outputs": [
    {
     "data": {
      "image/png": "[encoded data removed]",
      "text/plain": [
       "<Figure size 640x480 with 1 Axes>"
      ]
     },
     "metadata": {},
     "output_type": "display_data"
    },
    {
     "name": "stdout",
     "output_type": "stream",
     "text": [
      "MARRIAGE\n",
      "1    0.235188\n",
      "2    0.208306\n",
      "3    0.235650\n",
      "Name: default.payment.next.month, dtype: float64\n"
     ]
    }
   ],
   "source": [
    "plot_category('MARRIAGE')"
   ]
  },
  {
   "cell_type": "code",
   "execution_count": null,
   "metadata": {},
   "outputs": [],
   "source": []
  }
 ],
 "metadata": {
  "kernelspec": {
   "display_name": "Python 3",
   "language": "python",
   "name": "python3"
  },
  "language_info": {
   "codemirror_mode": {
    "name": "ipython",
    "version": 3
   },
   "file_extension": ".py",
   "mimetype": "text/x-python",
   "name": "python",
   "nbconvert_exporter": "python",
   "pygments_lexer": "ipython3",
   "version": "3.11.4"
  }
 },
 "nbformat": 4,
 "nbformat_minor": 2
}
